{
 "cells": [
  {
   "cell_type": "markdown",
   "id": "25e802ab",
   "metadata": {},
   "source": [
    "# Вычисление факториала числа"
   ]
  },
  {
   "cell_type": "markdown",
   "id": "62441eab",
   "metadata": {},
   "source": [
    "Напишите функцию, которая принимает целое число n и возвращает его факториал n!.\n",
    "\n",
    "Пример:\n",
    "* Вход: $n = 5$\n",
    "* Выход: $120$ (так как  $5! = 5 \\times 4 \\times 3 \\times 2 \\times 1 = 120$ )\n"
   ]
  },
  {
   "cell_type": "code",
   "execution_count": 254,
   "id": "4a9e929a",
   "metadata": {},
   "outputs": [
    {
     "name": "stdout",
     "output_type": "stream",
     "text": [
      "120\n"
     ]
    }
   ],
   "source": [
    "from functools import lru_cache\n",
    "@lru_cache\n",
    "\n",
    "def factorial(n):\n",
    "    if n <= 1 and n >= 0:\n",
    "        return 1\n",
    "    if n < 0 or type(n) != int:\n",
    "        raise Exception('Нельзя так делать')\n",
    "    else:\n",
    "        return n*factorial(n-1)\n",
    "        \n",
    "print(factorial(5))  # Выход: 120"
   ]
  },
  {
   "cell_type": "markdown",
   "id": "7e71749c",
   "metadata": {},
   "source": [
    "# Поиск максимального элемента в матрице"
   ]
  },
  {
   "cell_type": "markdown",
   "id": "155bb94d",
   "metadata": {},
   "source": [
    "Напишите функцию, которая принимает матрицу (двумерный список) и находит максимальный элемент в этой матрице. Функция должна возвращать максимальное значение и его координаты (индексы строки и столбца)."
   ]
  },
  {
   "cell_type": "code",
   "execution_count": null,
   "id": "4ff0bdf0",
   "metadata": {},
   "outputs": [],
   "source": [
    "def find_max_in_matrix(matrix):\n",
    "    maxim = 0\n",
    "    index1 = None\n",
    "    index2 = None\n",
    "    for spis in matrix:\n",
    "        maxim = max(maxim,max(spis))\n",
    "    for spis in matrix:\n",
    "        index2 = spis.index\n",
    "\n",
    "matrix = [\n",
    "    [1, 2, 3],\n",
    "    [4, 5, 6],\n",
    "    [7, 8, 9]\n",
    "]\n",
    "max_value, max_position = find_max_in_matrix(matrix)\n",
    "print(max_value) ## 9\n",
    "print(max_position) ## (2, 2)"
   ]
  },
  {
   "cell_type": "markdown",
   "id": "69827bab",
   "metadata": {},
   "source": [
    "# Подсчёт каждой цифры в большом числе "
   ]
  },
  {
   "cell_type": "markdown",
   "id": "8770d3a0",
   "metadata": {},
   "source": [
    "Напишите функцию, которая принимает очень большое целое число и возвращает словарь, где ключом является каждая цифра от 0 до 9, а значением — количество её вхождений в числе. Не используйте строки или преобразование числа в строку.\n",
    "\n",
    "**Пример:**\n",
    "* Вход: 12345678901234567890\n",
    "* Выход: {0: 2, 1: 2, 2: 2, 3: 2, 4: 2, 5: 2, 6: 2, 7: 2, 8: 2, 9: 2}\n",
    "* Вход: 555123123555\n",
    "* Выход: {0: 0, 1: 2, 2: 2, 3: 2, 4: 0, 5: 6, 6: 0, 7: 0, 8: 0, 9: 0}"
   ]
  },
  {
   "cell_type": "code",
   "execution_count": 256,
   "id": "00143578",
   "metadata": {},
   "outputs": [
    {
     "name": "stdout",
     "output_type": "stream",
     "text": [
      "{0: 2, 1: 2, 2: 2, 3: 2, 4: 2, 5: 2, 6: 2, 7: 2, 8: 2, 9: 2}\n",
      "{0: 0, 1: 2, 2: 2, 3: 2, 4: 0, 5: 6, 6: 0, 7: 0, 8: 0, 9: 0}\n"
     ]
    }
   ],
   "source": [
    "Numbers = (1,2,3,4,5,6,7,8,9,0)\n",
    "\n",
    "def count_digits(number):\n",
    "    dictin = {}\n",
    "    procent = 10\n",
    "    if type(number) != int:\n",
    "        return 'пишитие в формате int'\n",
    "    while number > 0:\n",
    "        delitel = number%10\n",
    "        number //=10\n",
    "        if delitel in dictin:\n",
    "            dictin[delitel] += 1\n",
    "        else:\n",
    "            dictin[delitel] = 1\n",
    "    for delitel in Numbers:\n",
    "        if delitel in dictin:\n",
    "            continue\n",
    "        else:\n",
    "            dictin[delitel] = 0\n",
    "            \n",
    "    return dict(sorted(dictin.items()))\n",
    "\n",
    "\n",
    "number1 = 12345678901234567890\n",
    "number2 = 555123123555\n",
    "print(count_digits(number1))\n",
    "print(count_digits(number2))"
   ]
  },
  {
   "cell_type": "markdown",
   "id": "3d86eb5c",
   "metadata": {},
   "source": [
    "\n",
    "# Вычисление экспоненциального ряда"
   ]
  },
  {
   "cell_type": "markdown",
   "id": "9aa8d601",
   "metadata": {},
   "source": [
    "Напишите функцию, которая приближённо вычисляет значение экспоненты  $e^x$  по следующей формуле:\n",
    "\n",
    "$$e^x = 1 + \\frac{x}{1!} + \\frac{x^2}{2!} + \\frac{x^3}{3!} + \\dots + \\frac{x^n}{n!}$$\n",
    "\n",
    "Используйте только n первых членов ряда и факториалы, вычисленные самостоятельно.\n",
    "\n",
    "Пример:\n",
    "* Вход: $x = 1, n = 5$\n",
    "* Выход: $2.7166666666666663$ (близко к реальному значению  $e \\approx 2.718$ )"
   ]
  },
  {
   "cell_type": "code",
   "execution_count": 79,
   "id": "c89ba3af",
   "metadata": {},
   "outputs": [
    {
     "name": "stdout",
     "output_type": "stream",
     "text": [
      "2.7166666666666663\n"
     ]
    }
   ],
   "source": [
    "from functools import lru_cache\n",
    "@lru_cache\n",
    "\n",
    "def e(x, n):\n",
    "    if n < 0:\n",
    "        raise Exception('Nelzia tak delat')\n",
    "    if n == 0:\n",
    "        return 1\n",
    "    else:\n",
    "        return e(x, n-1)+(x**n)/factorial(n)\n",
    "# Пример использования\n",
    "\n",
    "print(e(1, 5))  # Выход: приближённое значение e ≈ 2.71667"
   ]
  },
  {
   "cell_type": "markdown",
   "id": "195d27a7",
   "metadata": {
    "ExecuteTime": {
     "end_time": "2024-10-30T05:09:38.468053Z",
     "start_time": "2024-10-30T05:09:38.451652Z"
    }
   },
   "source": [
    "# Вычисление корней квадратного уравнения"
   ]
  },
  {
   "cell_type": "markdown",
   "id": "c2ff033a",
   "metadata": {
    "ExecuteTime": {
     "end_time": "2024-10-30T05:10:25.417423Z",
     "start_time": "2024-10-30T05:10:25.396719Z"
    }
   },
   "source": [
    "Напишите функцию, которая решает квадратное уравнение вида  $ax^2 + bx + c = 0$ , где коэффициенты a, b и c вводятся пользователем. Функция должна вернуть действительные корни уравнения, если они существуют, или сообщить, что корней нет.\n",
    "\n",
    "Пример:\n",
    "* Вход: $a = 1, b = -3, c = 2$\n",
    "* Выход: корни $(2, 1)$"
   ]
  },
  {
   "cell_type": "code",
   "execution_count": 258,
   "id": "6ed1b459",
   "metadata": {},
   "outputs": [
    {
     "name": "stdout",
     "output_type": "stream",
     "text": [
      "(2.0, 1.0)\n",
      "Нет действительных корней\n"
     ]
    }
   ],
   "source": [
    "import math\n",
    "\n",
    "def quadratic_roots(a, b, c):\n",
    "    \n",
    "    discriminant = b**2 - 4*a*c\n",
    "    \n",
    "    if discriminant > 0:\n",
    "        x1=(-b+math.sqrt(discriminant))/(2*a)\n",
    "        x2=(-b-math.sqrt(discriminant))/(2*a)\n",
    "        return x1, x2\n",
    "    elif discriminant == 0:\n",
    "        x1 = -b/(2*a)\n",
    "        return x1\n",
    "    else:\n",
    "        return 'Нет действительных корней'\n",
    "\n",
    "# Пример использования\n",
    "print(quadratic_roots(1, -3, 2))  # Выход: (2, 1)\n",
    "print(quadratic_roots(1, 2, 5))   # Выход: \"Нет действительных корней\""
   ]
  },
  {
   "cell_type": "markdown",
   "id": "b1deb6a0",
   "metadata": {},
   "source": [
    "# Приближённое вычисление синуса с использованием ряда Тейлора"
   ]
  },
  {
   "cell_type": "markdown",
   "id": "6c1aced2",
   "metadata": {},
   "source": [
    "Напишите функцию, которая приближённо вычисляет значение синуса для угла $x$ (в радианах) с использованием ряда Тейлора. Формула для синуса через ряд Тейлора:\n",
    "\n",
    "$$\\sin(x) = x - \\frac{x^3}{3!} + \\frac{x^5}{5!} - \\frac{x^7}{7!} + \\dots$$\n",
    "Функция должна принимать угол x и количество членов n и возвращать приближённое значение синуса, вычисленное с точностью до n членов.\n"
   ]
  },
  {
   "cell_type": "code",
   "execution_count": 260,
   "id": "04e40aba",
   "metadata": {
    "ExecuteTime": {
     "end_time": "2024-10-30T05:14:58.636704Z",
     "start_time": "2024-10-30T05:14:58.624892Z"
    }
   },
   "outputs": [
    {
     "name": "stdout",
     "output_type": "stream",
     "text": [
      "0.9999996270418698\n"
     ]
    }
   ],
   "source": [
    "from functools import lru_cache\n",
    "@lru_cache\n",
    "\n",
    "def sin_taylor(x, n):\n",
    "    # Проверим тип вводимых параметров\n",
    "    if type(n) != int:\n",
    "        return 'введите int'\n",
    "    if n < 0:\n",
    "        raise Exception('не надо вводить отрицательное число')\n",
    "    if n == 0:\n",
    "        return x\n",
    "    if n > 0:\n",
    "        return sin_taylor(x, n-1)+(x)**(2*n+1)/factorial(2*n+1)*(-1)**n\n",
    "# Пример использования\n",
    "print(sin_taylor(1.57, 5))  # Выход: примерно 1 (для x ≈ π/2)"
   ]
  },
  {
   "cell_type": "markdown",
   "id": "f33c8568",
   "metadata": {},
   "source": [
    "# Подсчёт единичных битов в числе"
   ]
  },
  {
   "cell_type": "markdown",
   "id": "d1e0775d",
   "metadata": {
    "ExecuteTime": {
     "end_time": "2024-10-30T05:17:58.157530Z",
     "start_time": "2024-10-30T05:17:58.139148Z"
    }
   },
   "source": [
    "Напишите функцию, которая принимает целое число n и возвращает количество единичных битов в его двоичном представлении (так называемое “популяционное количество” или “hamming weight”).\n",
    "\n",
    "Пример:\n",
    "* Вход: $n = 9$ (двоичное представление $1001$)\n",
    "* Выход: $2$ (так как в числе $1001$ два единичных бита)"
   ]
  },
  {
   "cell_type": "code",
   "execution_count": 290,
   "id": "38136a82",
   "metadata": {
    "ExecuteTime": {
     "end_time": "2024-10-30T05:18:13.787106Z",
     "start_time": "2024-10-30T05:18:13.782701Z"
    }
   },
   "outputs": [
    {
     "name": "stdout",
     "output_type": "stream",
     "text": [
      "(2, '1001')\n"
     ]
    }
   ],
   "source": [
    "def count_set_bits(n):\n",
    "    \n",
    "    strochka=''\n",
    "    \n",
    "    if n < 2:\n",
    "        return 'ne nado'\n",
    "        \n",
    "    while True:\n",
    "        procent = n % 2\n",
    "        n //=2\n",
    "        strochka+=str(procent)\n",
    "        if n == 0:\n",
    "            break\n",
    "    return strochka.count('1'), strochka[::-1]\n",
    "     \n",
    "# Пример использования\n",
    "print(count_set_bits(9))  # Выход: 2"
   ]
  },
  {
   "cell_type": "markdown",
   "id": "0bb78081",
   "metadata": {},
   "source": [
    "# Переворот битов в числе"
   ]
  },
  {
   "cell_type": "markdown",
   "id": "b8500f42",
   "metadata": {
    "ExecuteTime": {
     "end_time": "2024-10-30T05:19:49.749240Z",
     "start_time": "2024-10-30T05:19:49.733887Z"
    }
   },
   "source": [
    "Напишите функцию, которая принимает целое положительное число n и количество бит num_bits и возвращает число n с перевёрнутыми битами в его двоичном представлении (то есть 0 становится 1 и наоборот) до длины num_bits.\n",
    "\n",
    "Пример:\n",
    "\n",
    "* Вход: $n = 5$ (двоичное представление $0101$), num_bits = 4\n",
    "* Выход: $10$ (двоичное представление $1010$)\n"
   ]
  },
  {
   "cell_type": "code",
   "execution_count": 298,
   "id": "5df23427",
   "metadata": {
    "ExecuteTime": {
     "end_time": "2024-10-30T05:20:15.538260Z",
     "start_time": "2024-10-30T05:20:15.516958Z"
    }
   },
   "outputs": [
    {
     "name": "stdout",
     "output_type": "stream",
     "text": [
      "10\n"
     ]
    }
   ],
   "source": [
    "def invert_bits(n, num_bits):\n",
    "    # Используем предыдущую функцию для того чтобы получить бинарный вид числа\n",
    "    binary_stroka = count_set_bits(n)[1]\n",
    "    # дополним ее нулями\n",
    "    binary_stroka = binary_stroka.zfill(num_bits) \n",
    "    # развернем\n",
    "    reversed_stroka = binary_stroka[::-1]\n",
    "    # вычислим десятичное значение\n",
    "    return int(reversed_stroka, 2)\n",
    "    \n",
    "print(invert_bits(5, 4))  # Выход: 10"
   ]
  },
  {
   "cell_type": "markdown",
   "id": "c29e6294",
   "metadata": {},
   "source": [
    "# Возведение числа в степень"
   ]
  },
  {
   "cell_type": "markdown",
   "id": "8d92e469",
   "metadata": {},
   "source": [
    "Напишите функцию, которая принимает два целых числа base и exponent и возвращает результат возведения base в степень exponent. Используйте метод “возведения в степень за логарифмическое время” (метод деления степени пополам)."
   ]
  },
  {
   "cell_type": "code",
   "execution_count": 318,
   "id": "0cbdf898",
   "metadata": {
    "ExecuteTime": {
     "end_time": "2024-10-30T05:24:49.050670Z",
     "start_time": "2024-10-30T05:24:49.038971Z"
    }
   },
   "outputs": [
    {
     "name": "stdout",
     "output_type": "stream",
     "text": [
      "1024\n",
      "0.1111111111111111\n"
     ]
    }
   ],
   "source": [
    "def power(base, exponent):\n",
    "    if exponent == 0:\n",
    "        return 1\n",
    "    if exponent < 0:\n",
    "        return power(1/base, -exponent)\n",
    "    if exponent % 2 == 0 and exponent > 0:\n",
    "        half_power=power(base, exponent/2)\n",
    "        return half_power**2\n",
    "    else:\n",
    "        return base*power(base, exponent-1)\n",
    "        \n",
    "print(power(2, 10))    # Выход: 1024\n",
    "print(power(3, -2))    # Выход: 0.1111"
   ]
  },
  {
   "cell_type": "markdown",
   "id": "12002951",
   "metadata": {},
   "source": [
    "# Отрисовка ромба"
   ]
  },
  {
   "cell_type": "markdown",
   "id": "10a3d85a",
   "metadata": {},
   "source": [
    "Напишите функцию, которая принимает целое положительное число n и рисует ромб высотой 2 * n - 1 строк. Верхняя и нижняя части ромба должны иметь наибольшую ширину 2 * n - 1, а середина ромба (строка n) должна иметь максимальную ширину."
   ]
  },
  {
   "cell_type": "code",
   "execution_count": null,
   "id": "ee7eb667",
   "metadata": {},
   "outputs": [],
   "source": [
    "# draw_diamond(3)\n",
    "#  *\n",
    "# ***\n",
    "#*****\n",
    "# ***\n",
    "#  *"
   ]
  },
  {
   "cell_type": "code",
   "execution_count": 222,
   "id": "60766226",
   "metadata": {
    "ExecuteTime": {
     "end_time": "2024-10-30T05:45:35.770423Z",
     "start_time": "2024-10-30T05:45:35.759216Z"
    }
   },
   "outputs": [
    {
     "name": "stdout",
     "output_type": "stream",
     "text": [
      "   *   \n",
      "  ***  \n",
      " ***** \n",
      "  ***  \n",
      "   *   \n",
      "        \n"
     ]
    }
   ],
   "source": [
    "def draw_diamond(n):\n",
    "    #введём счетчки для того чтобы ставить определенное число звезд и пробелов\n",
    "    spaces=n\n",
    "    stars=1\n",
    "    #делаем верхнуюю часть \n",
    "    for i in range(n):\n",
    "        print(' '*spaces +stars*'*' +' '*spaces)\n",
    "        spaces-=1\n",
    "        stars+=2\n",
    "    spaces+=2\n",
    "    stars-=4\n",
    "    #делаем нижнюю часть\n",
    "    for i in range(n):\n",
    "        print(' '*spaces + stars*'*' + ' '*spaces)\n",
    "        spaces+=1\n",
    "        stars-=2\n",
    "        \n",
    "draw_diamond(3)"
   ]
  },
  {
   "cell_type": "markdown",
   "id": "4e65873f",
   "metadata": {
    "ExecuteTime": {
     "end_time": "2024-10-30T05:54:39.104633Z",
     "start_time": "2024-10-30T05:54:39.093934Z"
    }
   },
   "source": [
    "# Сортировка вставками"
   ]
  },
  {
   "cell_type": "markdown",
   "id": "82e456ec",
   "metadata": {},
   "source": [
    "Сортировка вставками работает по принципу упорядочивания списка “слева направо”. Алгоритм делит массив на две части: отсортированную и неотсортированную. На каждом шаге берётся первый элемент из неотсортированной части и вставляется в правильное место в отсортированной части. Эта операция выполняется до тех пор, пока неотсортированная часть не станет пустой.\n",
    "\n",
    "**Пошаговый пример:**   \n",
    "\n",
    "Для массива [5, 2, 9, 1, 5, 6]:\n",
    "\n",
    "1.\tНачинаем с 5 (считаем отсортированным).\n",
    "2.\tБерём 2, вставляем перед 5 → [2, 5, 9, 1, 5, 6].\n",
    "3.\tБерём 9, уже на своём месте → [2, 5, 9, 1, 5, 6].\n",
    "4.\tБерём 1, вставляем перед 2 → [1, 2, 5, 9, 5, 6].\n",
    "5.\tБерём 5, вставляем после первого 5 → [1, 2, 5, 5, 9, 6].\n",
    "6.\tБерём 6, вставляем перед 9 → [1, 2, 5, 5, 6, 9]."
   ]
  },
  {
   "cell_type": "code",
   "execution_count": 226,
   "id": "9f7d36c9",
   "metadata": {},
   "outputs": [
    {
     "name": "stdout",
     "output_type": "stream",
     "text": [
      "[1, 2, 5, 5, 6, 9]\n"
     ]
    }
   ],
   "source": [
    "arr=[5, 2, 9, 1, 5, 6]\n",
    "\n",
    "def insertion_sort(arr):\n",
    "    \n",
    "    for i in range(1, len(arr)):\n",
    "        #сначала выбираем наш элемент \n",
    "        berem_elem = arr[i]\n",
    "        j = i-1\n",
    "        #теперь производим сортировку внутри части списка\n",
    "        while j >= 0 and berem_elem < arr[j]:\n",
    "            arr[j + 1] = arr[j]\n",
    "            j -= 1\n",
    "        arr[j + 1] = berem_elem\n",
    "    return arr\n",
    "    \n",
    "print(insertion_sort(arr))"
   ]
  },
  {
   "cell_type": "markdown",
   "id": "0291f2b9",
   "metadata": {},
   "source": [
    "# Быстрая сортировка"
   ]
  },
  {
   "cell_type": "markdown",
   "id": "2035308e",
   "metadata": {},
   "source": [
    "Быстрая сортировка — это алгоритм, который работает по принципу разделяй и властвуй. Алгоритм выбирает так называемый опорный элемент (или “разделитель”) и делит массив на две части: элементы, меньшие опорного, и элементы, большие или равные ему. После этого рекурсивно выполняет ту же процедуру для каждой части массива. Это позволяет быстро упорядочить массив.\n",
    "\n",
    "**Как работает алгоритм:**\n",
    "\n",
    "1.\tВыбираем опорный элемент (обычно берётся средний элемент массива, но можно использовать и другие подходы).\n",
    "2.\tРазделяем массив на две части:\n",
    "    * Левая часть: все элементы, меньшие опорного.\n",
    "\t* Правая часть: все элементы, большие или равные опорному.\n",
    "3.\tРекурсивно применяем быструю сортировку к левой и правой частям.\n",
    "4.\tКогда массивы разделены до одного элемента, все элементы оказываются на своих местах, и массив становится отсортированным.\n",
    "\n",
    "**Пошаговый пример:**\n",
    "\n",
    "Для массива [5, 2, 9, 1, 5, 6]:\n",
    "\n",
    "\t1.\tБерём 5 как опорный элемент.\n",
    "\t2.\tРазделяем массив на [2, 1] (меньше 5) и [9, 5, 6] (больше или равно 5).\n",
    "\t3.\tРекурсивно сортируем [2, 1] → [1, 2].\n",
    "\t4.\tРекурсивно сортируем [9, 5, 6] → [5, 6, 9].\n",
    "\t5.\tСобираем всё вместе → [1, 2, 5, 5, 6, 9]."
   ]
  },
  {
   "cell_type": "code",
   "execution_count": 348,
   "id": "f08efff4",
   "metadata": {},
   "outputs": [
    {
     "name": "stdout",
     "output_type": "stream",
     "text": [
      "[1, 2, 5, 5, 6, 9]\n"
     ]
    }
   ],
   "source": [
    "def quicksort(arr):\n",
    "    if len(arr) <= 1:\n",
    "        return arr\n",
    "    else:\n",
    "        opora = arr[len(arr) // 2]  \n",
    "        left = [x for x in arr if x < opora]  \n",
    "        middle = [x for x in arr if x == opora]  # Это мы вводим, чтобы не было казуса в случае \n",
    "        #если мы имеем несколько одинаковых элементов, совпадающих с опорным\n",
    "        #при проведении тестов с случае невведения этого списка, при добавлении элементов равных опорному либо в left \n",
    "        #либо в right происходила 2974 итерации без остановки, что нас не устраивает\n",
    "        right = [x for x in arr if x > opora] \n",
    "        return quicksort(left)+ middle + quicksort(right) \n",
    "print(quicksort(arr))"
   ]
  },
  {
   "cell_type": "code",
   "execution_count": 352,
   "id": "4aecb1db",
   "metadata": {},
   "outputs": [
    {
     "name": "stdout",
     "output_type": "stream",
     "text": [
      "Время выполнения сортировки вставками: 0.03700 секунд\n",
      "Время выполнения быстрой сортировки: 0.00200 секунд\n"
     ]
    }
   ],
   "source": [
    "import random\n",
    "import time\n",
    "\n",
    "# Генерация случайного массива\n",
    "array_size = 1000\n",
    "array = [random.randint(0, 10000) for _ in range(array_size)]\n",
    "\n",
    "# Сравнение времени выполнения\n",
    "array_copy = array.copy()\n",
    "start_time = time.time()\n",
    "insertion_sort(array_copy)\n",
    "insertion_time = time.time() - start_time\n",
    "\n",
    "array_copy = array.copy()\n",
    "start_time = time.time()\n",
    "quicksort(array_copy)\n",
    "quicksort_time = time.time() - start_time\n",
    "\n",
    "print(f\"Время выполнения сортировки вставками: {insertion_time:.5f} секунд\")\n",
    "print(f\"Время выполнения быстрой сортировки: {quicksort_time:.5f} секунд\")"
   ]
  },
  {
   "cell_type": "markdown",
   "id": "9d6f52b9",
   "metadata": {},
   "source": [
    "# Подсчёт количества слов в строке"
   ]
  },
  {
   "cell_type": "markdown",
   "id": "d59d25b2",
   "metadata": {},
   "source": [
    "Напишите функцию, которая принимает строку и возвращает количество слов в ней, не используя встроенные методы для работы со строками, такие как `split()`, `strip()`, `count()` и т. д. Слова разделяются одним или несколькими пробелами. Знаки препинания считаются частью слов.\n",
    "\n",
    "**Определение слова:** Непрерывная последовательность символов, отличных от пробела `(' ')`.\n",
    "\n",
    "**Пример:**\n",
    "* Вход: \"Hello,   world! How are you?\"\n",
    "* Выход: 5 (так как строка содержит пять слов)"
   ]
  },
  {
   "cell_type": "code",
   "execution_count": 252,
   "id": "39b0a6fc",
   "metadata": {},
   "outputs": [
    {
     "name": "stdout",
     "output_type": "stream",
     "text": [
      "5\n"
     ]
    }
   ],
   "source": [
    "def cofunt_words(s):\n",
    "    k = 0\n",
    "    flag = 'down'\n",
    "    for simbol in s:\n",
    "        if simbol == ' ' and flag == 'down':\n",
    "            flag = 'up'\n",
    "            k += 1\n",
    "        if simbol != ' ':\n",
    "            flag = 'down'\n",
    "    return k+1\n",
    "    \n",
    "print(cofunt_words(\"Hello,   world! How are you?\"))  # Выход: 5"
   ]
  },
  {
   "cell_type": "markdown",
   "id": "9311484c",
   "metadata": {},
   "source": [
    "# Удаление дубликатов слов в строке"
   ]
  },
  {
   "cell_type": "markdown",
   "id": "66001171",
   "metadata": {},
   "source": [
    "Напишите функцию, которая принимает строку и возвращает новую строку, в которой удалены все дубликаты слов. Слова должны сохранять порядок их первого появления в исходной строке. Считайте, что слова разделяются одним или несколькими пробелами и могут содержать знаки препинания.\n",
    "\n",
    "**Условия:**\n",
    "1.\tФункция должна быть нечувствительной к регистру (например, 'Hello' и 'hello' считаются одним и тем же словом).\n",
    "2.\tСлова, оставшиеся в результирующей строке, должны сохранять регистр их первого появления.\n",
    "\n",
    "**Пример:**\n",
    "* Вход: \"This is a test. This test is only a test.\"\n",
    "* Выход: \"This is a test. only\"\n",
    "* Вход: \"Hello World world hello\"\n",
    "* Выход: \"Hello World\""
   ]
  },
  {
   "cell_type": "code",
   "execution_count": 402,
   "id": "93d6686a",
   "metadata": {},
   "outputs": [
    {
     "ename": "ValueError",
     "evalue": "'this' is not in list",
     "output_type": "error",
     "traceback": [
      "\u001b[1;31m---------------------------------------------------------------------------\u001b[0m",
      "\u001b[1;31mValueError\u001b[0m                                Traceback (most recent call last)",
      "Cell \u001b[1;32mIn[402], line 23\u001b[0m\n\u001b[0;32m     21\u001b[0m s1\u001b[38;5;241m=\u001b[39m\u001b[38;5;124m\"\u001b[39m\u001b[38;5;124mThis is a test. This test is onlya test.\u001b[39m\u001b[38;5;124m\"\u001b[39m\n\u001b[0;32m     22\u001b[0m s2\u001b[38;5;241m=\u001b[39m\u001b[38;5;124m\"\u001b[39m\u001b[38;5;124mHello World world hello\u001b[39m\u001b[38;5;124m\"\u001b[39m\n\u001b[1;32m---> 23\u001b[0m \u001b[38;5;28mprint\u001b[39m(remove_duplicate_words(s1))\n\u001b[0;32m     24\u001b[0m \u001b[38;5;28mprint\u001b[39m(remove_duplicate_words(s2))\n",
      "Cell \u001b[1;32mIn[402], line 18\u001b[0m, in \u001b[0;36mremove_duplicate_words\u001b[1;34m(text)\u001b[0m\n\u001b[0;32m     16\u001b[0m         wordresult1\u001b[38;5;241m=\u001b[39mwordresult\u001b[38;5;241m.\u001b[39mlower()\n\u001b[0;32m     17\u001b[0m         \u001b[38;5;28;01mif\u001b[39;00m wordseen1 \u001b[38;5;241m!=\u001b[39m wordresult1 \u001b[38;5;129;01mand\u001b[39;00m (wordseen1 \u001b[38;5;129;01min\u001b[39;00m wordresult1 \u001b[38;5;129;01mor\u001b[39;00m wordresult1 \u001b[38;5;129;01min\u001b[39;00m wordseen1):\n\u001b[1;32m---> 18\u001b[0m             \u001b[38;5;28;01mdel\u001b[39;00m result[result\u001b[38;5;241m.\u001b[39mindex(wordresult)]\n\u001b[0;32m     19\u001b[0m \u001b[38;5;28;01mreturn\u001b[39;00m \u001b[38;5;124m'\u001b[39m\u001b[38;5;124m \u001b[39m\u001b[38;5;124m'\u001b[39m\u001b[38;5;241m.\u001b[39mjoin(result)\n",
      "\u001b[1;31mValueError\u001b[0m: 'this' is not in list"
     ]
    }
   ],
   "source": [
    "import re\n",
    "def remove_duplicate_words(text):\n",
    "    words = text.split()\n",
    "    seen = set() \n",
    "    result = []  \n",
    "    #Минус в том, что . мешает при сплите \n",
    "    for word in words:\n",
    "        word1 = word.lower()\n",
    "        if word1 not in seen:\n",
    "            seen.add(word1)  \n",
    "            result.append(word)  \n",
    "            \n",
    "    for wordseen in seen:\n",
    "        for wordresult in seen:\n",
    "            wordseen1= wordseen.lower()\n",
    "            wordresult1=wordresult.lower()\n",
    "            if wordseen1 != wordresult1 and (wordseen1 in wordresult1 or wordresult1 in wordseen1):\n",
    "                del result[result.index(wordresult)]\n",
    "    return ' '.join(result)\n",
    "            \n",
    "s1=\"This is a test. This test is onlya test.\"\n",
    "s2=\"Hello World world hello\"\n",
    "print(remove_duplicate_words(s1))\n",
    "print(remove_duplicate_words(s2))"
   ]
  },
  {
   "cell_type": "code",
   "execution_count": null,
   "id": "69f9176c-5618-4e66-bad4-468ae0bbb39e",
   "metadata": {},
   "outputs": [],
   "source": []
  },
  {
   "cell_type": "code",
   "execution_count": null,
   "id": "65159436-a08f-4fd9-9562-f3cfc6ffe370",
   "metadata": {},
   "outputs": [],
   "source": []
  }
 ],
 "metadata": {
  "kernelspec": {
   "display_name": "Python 3 (ipykernel)",
   "language": "python",
   "name": "python3"
  },
  "language_info": {
   "codemirror_mode": {
    "name": "ipython",
    "version": 3
   },
   "file_extension": ".py",
   "mimetype": "text/x-python",
   "name": "python",
   "nbconvert_exporter": "python",
   "pygments_lexer": "ipython3",
   "version": "3.12.4"
  }
 },
 "nbformat": 4,
 "nbformat_minor": 5
}
